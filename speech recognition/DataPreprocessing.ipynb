{
 "cells": [
  {
   "cell_type": "code",
   "execution_count": 1,
   "id": "332b4aae",
   "metadata": {},
   "outputs": [],
   "source": [
    "import numpy as np\n",
    "import pandas as pd\n",
    "import matplotlib.pyplot as plt\n",
    "import seaborn as sns\n",
    "%matplotlib inline"
   ]
  },
  {
   "cell_type": "code",
   "execution_count": 19,
   "id": "02e1b163",
   "metadata": {},
   "outputs": [],
   "source": [
    "df = pd.read_csv(\"datalist.csv\",index_col=0)"
   ]
  },
  {
   "cell_type": "code",
   "execution_count": 20,
   "id": "3a7b3754",
   "metadata": {},
   "outputs": [
    {
     "data": {
      "text/html": [
       "<div>\n",
       "<style scoped>\n",
       "    .dataframe tbody tr th:only-of-type {\n",
       "        vertical-align: middle;\n",
       "    }\n",
       "\n",
       "    .dataframe tbody tr th {\n",
       "        vertical-align: top;\n",
       "    }\n",
       "\n",
       "    .dataframe thead th {\n",
       "        text-align: right;\n",
       "    }\n",
       "</style>\n",
       "<table border=\"1\" class=\"dataframe\">\n",
       "  <thead>\n",
       "    <tr style=\"text-align: right;\">\n",
       "      <th></th>\n",
       "      <th>text</th>\n",
       "      <th>voice_id</th>\n",
       "      <th>is_correct</th>\n",
       "    </tr>\n",
       "  </thead>\n",
       "  <tbody>\n",
       "    <tr>\n",
       "      <th>0</th>\n",
       "      <td>vazirlar mahkamasining yangi tarkibi shakllant...</td>\n",
       "      <td>AwACAgIAAxkBAAMnX51d_nSMUcTaZw01ef1lmUsPYC0AAp...</td>\n",
       "      <td>False</td>\n",
       "    </tr>\n",
       "    <tr>\n",
       "      <th>1</th>\n",
       "      <td>vazirlar mahkamasi yangi saylangan O'zbekiston...</td>\n",
       "      <td>AwACAgIAAxkBAAM-X56Mzfq30YX1fm8LLfSuz70D8P8AAj...</td>\n",
       "      <td>False</td>\n",
       "    </tr>\n",
       "    <tr>\n",
       "      <th>2</th>\n",
       "      <td>qaynoq ko'z yoshlari bilan yuz ko'zlarini yuvi...</td>\n",
       "      <td>AwACAgIAAxkBAANDX56SQK8yOL4ERfQuu6nGuyM6TpAAAk...</td>\n",
       "      <td>False</td>\n",
       "    </tr>\n",
       "    <tr>\n",
       "      <th>3</th>\n",
       "      <td>onasidan mash'um xabarni eshitgandan boshlab, ...</td>\n",
       "      <td>AwACAgIAAxkBAANUX596HbtI-YIkSX1A9nLiYcPPCH4AAm...</td>\n",
       "      <td>False</td>\n",
       "    </tr>\n",
       "    <tr>\n",
       "      <th>4</th>\n",
       "      <td>yomon axloqning qalb sofligiga beradigan zarar...</td>\n",
       "      <td>AwACAgIAAxkBAANWX596MkwofNWpbY6tQftOE8bfTVsAAm...</td>\n",
       "      <td>False</td>\n",
       "    </tr>\n",
       "  </tbody>\n",
       "</table>\n",
       "</div>"
      ],
      "text/plain": [
       "                                                text  \\\n",
       "0  vazirlar mahkamasining yangi tarkibi shakllant...   \n",
       "1  vazirlar mahkamasi yangi saylangan O'zbekiston...   \n",
       "2  qaynoq ko'z yoshlari bilan yuz ko'zlarini yuvi...   \n",
       "3  onasidan mash'um xabarni eshitgandan boshlab, ...   \n",
       "4  yomon axloqning qalb sofligiga beradigan zarar...   \n",
       "\n",
       "                                            voice_id is_correct  \n",
       "0  AwACAgIAAxkBAAMnX51d_nSMUcTaZw01ef1lmUsPYC0AAp...      False  \n",
       "1  AwACAgIAAxkBAAM-X56Mzfq30YX1fm8LLfSuz70D8P8AAj...      False  \n",
       "2  AwACAgIAAxkBAANDX56SQK8yOL4ERfQuu6nGuyM6TpAAAk...      False  \n",
       "3  AwACAgIAAxkBAANUX596HbtI-YIkSX1A9nLiYcPPCH4AAm...      False  \n",
       "4  AwACAgIAAxkBAANWX596MkwofNWpbY6tQftOE8bfTVsAAm...      False  "
      ]
     },
     "execution_count": 20,
     "metadata": {},
     "output_type": "execute_result"
    }
   ],
   "source": [
    "df.head()"
   ]
  },
  {
   "cell_type": "code",
   "execution_count": 21,
   "id": "bbff9ecb",
   "metadata": {},
   "outputs": [
    {
     "name": "stdout",
     "output_type": "stream",
     "text": [
      "<class 'pandas.core.frame.DataFrame'>\n",
      "Int64Index: 14251 entries, 0 to 14250\n",
      "Data columns (total 3 columns):\n",
      " #   Column      Non-Null Count  Dtype \n",
      "---  ------      --------------  ----- \n",
      " 0   text        14251 non-null  object\n",
      " 1   voice_id    14251 non-null  object\n",
      " 2   is_correct  13414 non-null  object\n",
      "dtypes: object(3)\n",
      "memory usage: 445.3+ KB\n"
     ]
    }
   ],
   "source": [
    "df.info()"
   ]
  },
  {
   "cell_type": "code",
   "execution_count": 22,
   "id": "68586fba",
   "metadata": {},
   "outputs": [
    {
     "data": {
      "text/html": [
       "<div>\n",
       "<style scoped>\n",
       "    .dataframe tbody tr th:only-of-type {\n",
       "        vertical-align: middle;\n",
       "    }\n",
       "\n",
       "    .dataframe tbody tr th {\n",
       "        vertical-align: top;\n",
       "    }\n",
       "\n",
       "    .dataframe thead th {\n",
       "        text-align: right;\n",
       "    }\n",
       "</style>\n",
       "<table border=\"1\" class=\"dataframe\">\n",
       "  <thead>\n",
       "    <tr style=\"text-align: right;\">\n",
       "      <th></th>\n",
       "      <th>text</th>\n",
       "      <th>voice_id</th>\n",
       "      <th>is_correct</th>\n",
       "    </tr>\n",
       "  </thead>\n",
       "  <tbody>\n",
       "    <tr>\n",
       "      <th>count</th>\n",
       "      <td>14251</td>\n",
       "      <td>14251</td>\n",
       "      <td>13414</td>\n",
       "    </tr>\n",
       "    <tr>\n",
       "      <th>unique</th>\n",
       "      <td>1463</td>\n",
       "      <td>14251</td>\n",
       "      <td>2</td>\n",
       "    </tr>\n",
       "    <tr>\n",
       "      <th>top</th>\n",
       "      <td>qaynoq ko'z yoshlari bilan yuz ko'zlarini yuvi...</td>\n",
       "      <td>AwACAgIAAxkBAAMnX51d_nSMUcTaZw01ef1lmUsPYC0AAp...</td>\n",
       "      <td>True</td>\n",
       "    </tr>\n",
       "    <tr>\n",
       "      <th>freq</th>\n",
       "      <td>296</td>\n",
       "      <td>1</td>\n",
       "      <td>10472</td>\n",
       "    </tr>\n",
       "  </tbody>\n",
       "</table>\n",
       "</div>"
      ],
      "text/plain": [
       "                                                     text  \\\n",
       "count                                               14251   \n",
       "unique                                               1463   \n",
       "top     qaynoq ko'z yoshlari bilan yuz ko'zlarini yuvi...   \n",
       "freq                                                  296   \n",
       "\n",
       "                                                 voice_id is_correct  \n",
       "count                                               14251      13414  \n",
       "unique                                              14251          2  \n",
       "top     AwACAgIAAxkBAAMnX51d_nSMUcTaZw01ef1lmUsPYC0AAp...       True  \n",
       "freq                                                    1      10472  "
      ]
     },
     "execution_count": 22,
     "metadata": {},
     "output_type": "execute_result"
    }
   ],
   "source": [
    "df.describe()"
   ]
  },
  {
   "cell_type": "code",
   "execution_count": 24,
   "id": "2ca333ed",
   "metadata": {},
   "outputs": [
    {
     "data": {
      "text/plain": [
       "<AxesSubplot:>"
      ]
     },
     "execution_count": 24,
     "metadata": {},
     "output_type": "execute_result"
    },
    {
     "data": {
      "image/png": "[encoded data removed]",
      "text/plain": [
       "<Figure size 432x288 with 1 Axes>"
      ]
     },
     "metadata": {
      "needs_background": "light"
     },
     "output_type": "display_data"
    }
   ],
   "source": [
    "sns.heatmap(df.isnull(),yticklabels=False,cbar=False,cmap='viridis')"
   ]
  },
  {
   "cell_type": "code",
   "execution_count": 26,
   "id": "8723a700",
   "metadata": {},
   "outputs": [
    {
     "data": {
      "text/plain": [
       "<AxesSubplot:xlabel='is_correct', ylabel='count'>"
      ]
     },
     "execution_count": 26,
     "metadata": {},
     "output_type": "execute_result"
    },
    {
     "data": {
      "image/png": "[encoded data removed]",
      "text/plain": [
       "<Figure size 432x288 with 1 Axes>"
      ]
     },
     "metadata": {},
     "output_type": "display_data"
    }
   ],
   "source": [
    "sns.set_style('whitegrid')\n",
    "sns.countplot(x='is_correct',data=df,palette='RdBu_r')"
   ]
  },
  {
   "cell_type": "code",
   "execution_count": 27,
   "id": "d5b0e96b",
   "metadata": {},
   "outputs": [
    {
     "data": {
      "text/plain": [
       "True     10472\n",
       "False     2942\n",
       "Name: is_correct, dtype: int64"
      ]
     },
     "execution_count": 27,
     "metadata": {},
     "output_type": "execute_result"
    }
   ],
   "source": [
    "df[\"is_correct\"].value_counts()"
   ]
  },
  {
   "cell_type": "markdown",
   "id": "11bcb488",
   "metadata": {},
   "source": [
    "# Data Cleaning"
   ]
  },
  {
   "cell_type": "code",
   "execution_count": 49,
   "id": "bc9c772f",
   "metadata": {},
   "outputs": [],
   "source": [
    "df.dropna(inplace=True)"
   ]
  },
  {
   "cell_type": "code",
   "execution_count": 52,
   "id": "afd74295",
   "metadata": {},
   "outputs": [],
   "source": [
    "df = df[df['is_correct']]"
   ]
  },
  {
   "cell_type": "code",
   "execution_count": 57,
   "id": "e6b78f86",
   "metadata": {},
   "outputs": [],
   "source": [
    "df.reset_index(drop=True, inplace=True)"
   ]
  },
  {
   "cell_type": "code",
   "execution_count": 58,
   "id": "1c9edfd0",
   "metadata": {},
   "outputs": [],
   "source": [
    "df.to_csv(\"toza.csv\")"
   ]
  },
  {
   "cell_type": "code",
   "execution_count": 65,
   "id": "e2e1818e",
   "metadata": {},
   "outputs": [],
   "source": [
    "clean_audios = df['voice_id'].to_numpy()"
   ]
  },
  {
   "cell_type": "code",
   "execution_count": 81,
   "id": "029d004d",
   "metadata": {},
   "outputs": [],
   "source": [
    "import os\n",
    "for filename in os.listdir(\"voices\"):\n",
    "    if not  filename.split('.')[0] in clean_audios : \n",
    "        os.remove(\"voices/\"+filename)\n",
    "        "
   ]
  },
  {
   "cell_type": "code",
   "execution_count": 110,
   "id": "19c65828",
   "metadata": {},
   "outputs": [
    {
     "data": {
      "text/plain": [
       "10472"
      ]
     },
     "execution_count": 110,
     "metadata": {},
     "output_type": "execute_result"
    }
   ],
   "source": [
    "len(list(df['voice_id']))"
   ]
  },
  {
   "cell_type": "code",
   "execution_count": 111,
   "id": "da2f41c8",
   "metadata": {},
   "outputs": [
    {
     "data": {
      "text/plain": [
       "10472"
      ]
     },
     "execution_count": 111,
     "metadata": {},
     "output_type": "execute_result"
    }
   ],
   "source": [
    "len(set(df['voice_id']))"
   ]
  },
  {
   "cell_type": "code",
   "execution_count": 88,
   "id": "af626610",
   "metadata": {},
   "outputs": [],
   "source": [
    "name_of_files = []\n",
    "for filename in os.listdir(\"voices\"):\n",
    "    name_of_files.append(filename.split('.')[0])"
   ]
  },
  {
   "cell_type": "code",
   "execution_count": 96,
   "id": "2e91d7f3",
   "metadata": {},
   "outputs": [],
   "source": [
    "not_included = list(set(df['voice_id']) - set(name_of_files) ) "
   ]
  },
  {
   "cell_type": "code",
   "execution_count": 119,
   "id": "af60b76a",
   "metadata": {},
   "outputs": [],
   "source": [
    "final = df[~df['voice_id'].isin(not_included)]"
   ]
  },
  {
   "cell_type": "code",
   "execution_count": 120,
   "id": "6a3e8403",
   "metadata": {},
   "outputs": [
    {
     "data": {
      "text/plain": [
       "10469"
      ]
     },
     "execution_count": 120,
     "metadata": {},
     "output_type": "execute_result"
    }
   ],
   "source": [
    "len(set(final['voice_id']))"
   ]
  },
  {
   "cell_type": "code",
   "execution_count": 122,
   "id": "c388430a",
   "metadata": {},
   "outputs": [],
   "source": [
    "final.reset_index(drop=True, inplace=True)"
   ]
  },
  {
   "cell_type": "code",
   "execution_count": 123,
   "id": "3a34b269",
   "metadata": {},
   "outputs": [],
   "source": [
    "final.to_csv(\"final.csv\")"
   ]
  },
  {
   "cell_type": "code",
   "execution_count": 4,
   "id": "91b39cb2",
   "metadata": {},
   "outputs": [
    {
     "data": {
      "text/html": [
       "<div>\n",
       "<style scoped>\n",
       "    .dataframe tbody tr th:only-of-type {\n",
       "        vertical-align: middle;\n",
       "    }\n",
       "\n",
       "    .dataframe tbody tr th {\n",
       "        vertical-align: top;\n",
       "    }\n",
       "\n",
       "    .dataframe thead th {\n",
       "        text-align: right;\n",
       "    }\n",
       "</style>\n",
       "<table border=\"1\" class=\"dataframe\">\n",
       "  <thead>\n",
       "    <tr style=\"text-align: right;\">\n",
       "      <th></th>\n",
       "      <th>text</th>\n",
       "      <th>voice_id</th>\n",
       "      <th>is_correct</th>\n",
       "    </tr>\n",
       "  </thead>\n",
       "  <tbody>\n",
       "    <tr>\n",
       "      <th>0</th>\n",
       "      <td>Bashorat qilish juda qiyin narsa, ayniqsa kela...</td>\n",
       "      <td>AwACAgIAAxkBAAIK9l-hp4FI_giM4buhcgNnT0HpeDTCAA...</td>\n",
       "      <td>True</td>\n",
       "    </tr>\n",
       "    <tr>\n",
       "      <th>1</th>\n",
       "      <td>Hali ham yosh bola ekansan.</td>\n",
       "      <td>AwACAgIAAxkBAAIKtl-hpjazPHo3gWKdgXrX-xmd-N2-AA...</td>\n",
       "      <td>True</td>\n",
       "    </tr>\n",
       "    <tr>\n",
       "      <th>2</th>\n",
       "      <td>Bolsheviklar ham xuddi shu ishni qilishadi</td>\n",
       "      <td>AwACAgIAAxkBAAIKeF-hpVGwsfewrkz4SM3ablOvwhuTAA...</td>\n",
       "      <td>True</td>\n",
       "    </tr>\n",
       "    <tr>\n",
       "      <th>3</th>\n",
       "      <td>O’zbek musiqiy sana’ti afsonasi Ruslan Sharipo...</td>\n",
       "      <td>AwACAgIAAxkBAAIR_l-i_frVgSlBG16FFxejZJRnLaNKAA...</td>\n",
       "      <td>True</td>\n",
       "    </tr>\n",
       "    <tr>\n",
       "      <th>4</th>\n",
       "      <td>AQShda bugun saylov kuni. Har gal saylovlar bo...</td>\n",
       "      <td>AwACAgIAAxkBAAISOl-jAAGcLFVMKHRoJPJVkW0YXW0SZw...</td>\n",
       "      <td>True</td>\n",
       "    </tr>\n",
       "  </tbody>\n",
       "</table>\n",
       "</div>"
      ],
      "text/plain": [
       "                                                text  \\\n",
       "0  Bashorat qilish juda qiyin narsa, ayniqsa kela...   \n",
       "1                        Hali ham yosh bola ekansan.   \n",
       "2         Bolsheviklar ham xuddi shu ishni qilishadi   \n",
       "3  O’zbek musiqiy sana’ti afsonasi Ruslan Sharipo...   \n",
       "4  AQShda bugun saylov kuni. Har gal saylovlar bo...   \n",
       "\n",
       "                                            voice_id  is_correct  \n",
       "0  AwACAgIAAxkBAAIK9l-hp4FI_giM4buhcgNnT0HpeDTCAA...        True  \n",
       "1  AwACAgIAAxkBAAIKtl-hpjazPHo3gWKdgXrX-xmd-N2-AA...        True  \n",
       "2  AwACAgIAAxkBAAIKeF-hpVGwsfewrkz4SM3ablOvwhuTAA...        True  \n",
       "3  AwACAgIAAxkBAAIR_l-i_frVgSlBG16FFxejZJRnLaNKAA...        True  \n",
       "4  AwACAgIAAxkBAAISOl-jAAGcLFVMKHRoJPJVkW0YXW0SZw...        True  "
      ]
     },
     "execution_count": 4,
     "metadata": {},
     "output_type": "execute_result"
    }
   ],
   "source": [
    "final.head()"
   ]
  },
  {
   "cell_type": "code",
   "execution_count": 3,
   "id": "fa21cde2",
   "metadata": {},
   "outputs": [],
   "source": [
    "final = pd.read_csv(\"final.csv\",index_col=0)"
   ]
  },
  {
   "cell_type": "code",
   "execution_count": 175,
   "id": "4a57e467",
   "metadata": {},
   "outputs": [],
   "source": [
    "concatenated[\"client_id\"] = np.nan\n",
    "concatenated[\"up_votes\"] = np.nan\n",
    "concatenated[\"down_votes\"] = np.nan\n",
    "concatenated[\"age\"] = np.nan\n",
    "concatenated[\"gender\"] = np.nan\n",
    "concatenated[\"accent\"] = np.nan\n",
    "concatenated[\"locale\"] = np.nan\n",
    "concatenated[\"segment\"] = np.nan\n"
   ]
  },
  {
   "cell_type": "code",
   "execution_count": 176,
   "id": "441c9ef2",
   "metadata": {},
   "outputs": [],
   "source": [
    "concatenated.rename(columns={'text': 'sentence', 'voice_id': 'path'}, inplace=True)"
   ]
  },
  {
   "cell_type": "code",
   "execution_count": 177,
   "id": "bacc7734",
   "metadata": {},
   "outputs": [
    {
     "data": {
      "text/plain": [
       "Index(['sentence', 'path', 'client_id', 'up_votes', 'down_votes', 'age',\n",
       "       'gender', 'accent', 'locale', 'segment'],\n",
       "      dtype='object')"
      ]
     },
     "execution_count": 177,
     "metadata": {},
     "output_type": "execute_result"
    }
   ],
   "source": [
    "concatenated.columns"
   ]
  },
  {
   "cell_type": "code",
   "execution_count": 8,
   "id": "280664ee",
   "metadata": {},
   "outputs": [
    {
     "name": "stderr",
     "output_type": "stream",
     "text": [
      "C:\\Users\\User\\anaconda3\\envs\\trainer\\lib\\site-packages\\ipykernel_launcher.py:1: FutureWarning: In a future version of pandas all arguments of DataFrame.drop except for the argument 'labels' will be keyword-only\n",
      "  \"\"\"Entry point for launching an IPython kernel.\n"
     ]
    }
   ],
   "source": [
    "final = final.drop('is_correct', 1)"
   ]
  },
  {
   "cell_type": "code",
   "execution_count": 9,
   "id": "82b8f674",
   "metadata": {},
   "outputs": [
    {
     "data": {
      "text/plain": [
       "Index(['sentence', 'path', 'client_id', 'up_votes', 'down_votes', 'age',\n",
       "       'gender', 'accent', 'locale', 'segment'],\n",
       "      dtype='object')"
      ]
     },
     "execution_count": 9,
     "metadata": {},
     "output_type": "execute_result"
    }
   ],
   "source": [
    "final.columns"
   ]
  },
  {
   "cell_type": "code",
   "execution_count": 178,
   "id": "c314c735",
   "metadata": {},
   "outputs": [],
   "source": [
    "def changer(x):\n",
    "    return x+\".mp3\""
   ]
  },
  {
   "cell_type": "code",
   "execution_count": 179,
   "id": "2acb33e4",
   "metadata": {},
   "outputs": [],
   "source": [
    "concatenated['path'] =  concatenated['path'].apply(changer)"
   ]
  },
  {
   "cell_type": "code",
   "execution_count": 12,
   "id": "e403653c",
   "metadata": {},
   "outputs": [],
   "source": [
    "final.to_csv(\"use.tsv\", sep='\\t',index=False)"
   ]
  },
  {
   "cell_type": "code",
   "execution_count": 271,
   "id": "88727424",
   "metadata": {},
   "outputs": [],
   "source": [
    "train, validate, test = np.split(concatenated.sample(frac=1, random_state=42),\n",
    "                                 [int(.8*len(concatenated)), int(.9*len(concatenated))])\n"
   ]
  },
  {
   "cell_type": "code",
   "execution_count": 272,
   "id": "f8dad0a2",
   "metadata": {},
   "outputs": [
    {
     "data": {
      "text/plain": [
       "11793"
      ]
     },
     "execution_count": 272,
     "metadata": {},
     "output_type": "execute_result"
    }
   ],
   "source": [
    "len(concatenated)"
   ]
  },
  {
   "cell_type": "code",
   "execution_count": 273,
   "id": "eec56ee4",
   "metadata": {},
   "outputs": [],
   "source": [
    "train.to_csv(\"train.tsv\", sep='\\t',index=False)\n",
    "validate.to_csv(\"validate.tsv\", sep='\\t',index=False)\n",
    "test.to_csv(\"test.tsv\", sep='\\t',index=False)"
   ]
  },
  {
   "cell_type": "code",
   "execution_count": 187,
   "id": "740df29d",
   "metadata": {},
   "outputs": [
    {
     "name": "stdout",
     "output_type": "stream",
     "text": [
      "Collecting pydub\n",
      "  Using cached pydub-0.25.1-py2.py3-none-any.whl (32 kB)\n",
      "Installing collected packages: pydub\n",
      "Successfully installed pydub-0.25.1\n"
     ]
    }
   ],
   "source": [
    "!pip install pydub"
   ]
  },
  {
   "cell_type": "code",
   "execution_count": 229,
   "id": "dac44951",
   "metadata": {},
   "outputs": [
    {
     "data": {
      "text/plain": [
       "[]"
      ]
     },
     "execution_count": 229,
     "metadata": {},
     "output_type": "execute_result"
    }
   ],
   "source": [
    "import os\n",
    "from pydub import AudioSegment\n",
    "# files\n",
    "# src = input(\"In: \")\n",
    "# dst = input(\"Out: \")\n",
    "allbraks = []\n",
    "src = \"voices/\"+filename\n",
    "dst = \"test/\"+filename.split('.')[0]+\".mp3\"\n",
    "for filename in os.listdir(\"clean_data/voices\"):\n",
    "    sound = AudioSegment.from_ogg(\"clean_data/voices/\"+filename)\n",
    "    sound.export(\"clean_data/voices/\"+filename.split('.')[0]+\".mp3\", format=\"mp3\")\n",
    "allbraks"
   ]
  },
  {
   "cell_type": "code",
   "execution_count": 16,
   "id": "77655ff6",
   "metadata": {},
   "outputs": [
    {
     "name": "stdout",
     "output_type": "stream",
     "text": [
      "Collecting pydub\n",
      "  Using cached pydub-0.25.1-py2.py3-none-any.whl (32 kB)\n",
      "Installing collected packages: pydub\n",
      "Successfully installed pydub-0.25.1\n"
     ]
    }
   ],
   "source": [
    "!pip install pydub"
   ]
  },
  {
   "cell_type": "code",
   "execution_count": 5,
   "id": "92514575",
   "metadata": {},
   "outputs": [],
   "source": [
    "#read bot data\n",
    "df_bot = pd.read_csv(\"Botdata/data.csv\", index_col=0)"
   ]
  },
  {
   "cell_type": "code",
   "execution_count": 65,
   "id": "8611718c",
   "metadata": {},
   "outputs": [],
   "source": [
    "df_bot.reset_index(drop=True, inplace=True)"
   ]
  },
  {
   "cell_type": "code",
   "execution_count": 68,
   "id": "68558360",
   "metadata": {},
   "outputs": [],
   "source": [
    "df_bot = df_bot.drop(columns=['index']) "
   ]
  },
  {
   "cell_type": "code",
   "execution_count": 76,
   "id": "11231986",
   "metadata": {
    "scrolled": true
   },
   "outputs": [
    {
     "data": {
      "text/html": [
       "<div>\n",
       "<style scoped>\n",
       "    .dataframe tbody tr th:only-of-type {\n",
       "        vertical-align: middle;\n",
       "    }\n",
       "\n",
       "    .dataframe tbody tr th {\n",
       "        vertical-align: top;\n",
       "    }\n",
       "\n",
       "    .dataframe thead th {\n",
       "        text-align: right;\n",
       "    }\n",
       "</style>\n",
       "<table border=\"1\" class=\"dataframe\">\n",
       "  <thead>\n",
       "    <tr style=\"text-align: right;\">\n",
       "      <th></th>\n",
       "      <th>id</th>\n",
       "      <th>sentence</th>\n",
       "    </tr>\n",
       "  </thead>\n",
       "  <tbody>\n",
       "    <tr>\n",
       "      <th>0</th>\n",
       "      <td>000e24b1-447f-477f-a153-31c7751209ca</td>\n",
       "      <td>“Shohruh sulton Samarqand taxtiga oʻltirgandin...</td>\n",
       "    </tr>\n",
       "    <tr>\n",
       "      <th>1</th>\n",
       "      <td>001ff9ff-133d-4f8f-8e7a-5a40b854e07f</td>\n",
       "      <td>Oʻtkazilgan soʻrov va oʻrganishlar natijasiga ...</td>\n",
       "    </tr>\n",
       "    <tr>\n",
       "      <th>2</th>\n",
       "      <td>0024f137-7526-4134-8f40-698c8d88ea31</td>\n",
       "      <td>Ayni damda mazkur komplekslarni qurish ishlari...</td>\n",
       "    </tr>\n",
       "    <tr>\n",
       "      <th>3</th>\n",
       "      <td>003013f7-57f9-496a-ac3a-e2ebdaa36fc8</td>\n",
       "      <td>Bu – dunyoga yoyilib ketayotgan ogʻir balo, ti...</td>\n",
       "    </tr>\n",
       "    <tr>\n",
       "      <th>4</th>\n",
       "      <td>0034eef3-8471-430a-b2de-e0fed7ffad63</td>\n",
       "      <td>Bu maqsadlarda Jahon banki mablagʻlaridan 70 m...</td>\n",
       "    </tr>\n",
       "    <tr>\n",
       "      <th>...</th>\n",
       "      <td>...</td>\n",
       "      <td>...</td>\n",
       "    </tr>\n",
       "    <tr>\n",
       "      <th>1819</th>\n",
       "      <td>ffbe966c-0d9f-4ddb-a658-c75e58e4057f</td>\n",
       "      <td>Birinchi navbatda oʻquvchilar bilan hozirgi sh...</td>\n",
       "    </tr>\n",
       "    <tr>\n",
       "      <th>1820</th>\n",
       "      <td>ffeac156-b52b-4dc7-8ce4-d34f936bd036</td>\n",
       "      <td>Hozircha AQSH Milliy xavfsizlik agentligi ayna...</td>\n",
       "    </tr>\n",
       "    <tr>\n",
       "      <th>1821</th>\n",
       "      <td>fffce0db-c36e-46fd-b15d-94fd950c0c00</td>\n",
       "      <td>Bu esa xorij davlatlarida bizning sovutgichlar...</td>\n",
       "    </tr>\n",
       "    <tr>\n",
       "      <th>1822</th>\n",
       "      <td>fffdc4a5-2337-42c4-9efe-80a25a89dc44</td>\n",
       "      <td>Tadbir doirasida qurilish va meʼmorchilikning ...</td>\n",
       "    </tr>\n",
       "    <tr>\n",
       "      <th>1823</th>\n",
       "      <td>ffff68a2-52f1-4a21-b17d-12b77f1a75b7</td>\n",
       "      <td>Koʻrilgan chora-tadbirlar natijasida oilaviy k...</td>\n",
       "    </tr>\n",
       "  </tbody>\n",
       "</table>\n",
       "<p>1824 rows × 2 columns</p>\n",
       "</div>"
      ],
      "text/plain": [
       "                                        id  \\\n",
       "0     000e24b1-447f-477f-a153-31c7751209ca   \n",
       "1     001ff9ff-133d-4f8f-8e7a-5a40b854e07f   \n",
       "2     0024f137-7526-4134-8f40-698c8d88ea31   \n",
       "3     003013f7-57f9-496a-ac3a-e2ebdaa36fc8   \n",
       "4     0034eef3-8471-430a-b2de-e0fed7ffad63   \n",
       "...                                    ...   \n",
       "1819  ffbe966c-0d9f-4ddb-a658-c75e58e4057f   \n",
       "1820  ffeac156-b52b-4dc7-8ce4-d34f936bd036   \n",
       "1821  fffce0db-c36e-46fd-b15d-94fd950c0c00   \n",
       "1822  fffdc4a5-2337-42c4-9efe-80a25a89dc44   \n",
       "1823  ffff68a2-52f1-4a21-b17d-12b77f1a75b7   \n",
       "\n",
       "                                               sentence  \n",
       "0     “Shohruh sulton Samarqand taxtiga oʻltirgandin...  \n",
       "1     Oʻtkazilgan soʻrov va oʻrganishlar natijasiga ...  \n",
       "2     Ayni damda mazkur komplekslarni qurish ishlari...  \n",
       "3     Bu – dunyoga yoyilib ketayotgan ogʻir balo, ti...  \n",
       "4     Bu maqsadlarda Jahon banki mablagʻlaridan 70 m...  \n",
       "...                                                 ...  \n",
       "1819  Birinchi navbatda oʻquvchilar bilan hozirgi sh...  \n",
       "1820  Hozircha AQSH Milliy xavfsizlik agentligi ayna...  \n",
       "1821  Bu esa xorij davlatlarida bizning sovutgichlar...  \n",
       "1822  Tadbir doirasida qurilish va meʼmorchilikning ...  \n",
       "1823  Koʻrilgan chora-tadbirlar natijasida oilaviy k...  \n",
       "\n",
       "[1824 rows x 2 columns]"
      ]
     },
     "execution_count": 76,
     "metadata": {},
     "output_type": "execute_result"
    }
   ],
   "source": [
    "df_bot"
   ]
  },
  {
   "cell_type": "code",
   "execution_count": 80,
   "id": "cc914b42",
   "metadata": {},
   "outputs": [],
   "source": [
    "name_file = []\n",
    "import os\n",
    "for filename in os.listdir(\"Botdata/data/\"):\n",
    "    name_file.append(filename.split('.')[0])\n",
    "#     sound = AudioSegment.from_ogg(\"voices/\"+filename)\n",
    "#     sound.export(\"voices/\"+filename.split('.')[0]+\".mp3\", format=\"mp3\")"
   ]
  },
  {
   "cell_type": "code",
   "execution_count": 87,
   "id": "420261e4",
   "metadata": {},
   "outputs": [],
   "source": [
    "not_in_file = set(df_bot.id) - set(name_file)"
   ]
  },
  {
   "cell_type": "code",
   "execution_count": 92,
   "id": "c0306c84",
   "metadata": {},
   "outputs": [],
   "source": [
    "for i in list(not_in_file):\n",
    "    df_bot.drop(df_bot[df_bot.id==i].index)"
   ]
  },
  {
   "cell_type": "code",
   "execution_count": 93,
   "id": "31c5f98a",
   "metadata": {},
   "outputs": [
    {
     "data": {
      "text/html": [
       "<div>\n",
       "<style scoped>\n",
       "    .dataframe tbody tr th:only-of-type {\n",
       "        vertical-align: middle;\n",
       "    }\n",
       "\n",
       "    .dataframe tbody tr th {\n",
       "        vertical-align: top;\n",
       "    }\n",
       "\n",
       "    .dataframe thead th {\n",
       "        text-align: right;\n",
       "    }\n",
       "</style>\n",
       "<table border=\"1\" class=\"dataframe\">\n",
       "  <thead>\n",
       "    <tr style=\"text-align: right;\">\n",
       "      <th></th>\n",
       "      <th>id</th>\n",
       "      <th>sentence</th>\n",
       "    </tr>\n",
       "  </thead>\n",
       "  <tbody>\n",
       "    <tr>\n",
       "      <th>0</th>\n",
       "      <td>000e24b1-447f-477f-a153-31c7751209ca</td>\n",
       "      <td>“Shohruh sulton Samarqand taxtiga oʻltirgandin...</td>\n",
       "    </tr>\n",
       "    <tr>\n",
       "      <th>1</th>\n",
       "      <td>001ff9ff-133d-4f8f-8e7a-5a40b854e07f</td>\n",
       "      <td>Oʻtkazilgan soʻrov va oʻrganishlar natijasiga ...</td>\n",
       "    </tr>\n",
       "    <tr>\n",
       "      <th>2</th>\n",
       "      <td>0024f137-7526-4134-8f40-698c8d88ea31</td>\n",
       "      <td>Ayni damda mazkur komplekslarni qurish ishlari...</td>\n",
       "    </tr>\n",
       "    <tr>\n",
       "      <th>3</th>\n",
       "      <td>003013f7-57f9-496a-ac3a-e2ebdaa36fc8</td>\n",
       "      <td>Bu – dunyoga yoyilib ketayotgan ogʻir balo, ti...</td>\n",
       "    </tr>\n",
       "    <tr>\n",
       "      <th>4</th>\n",
       "      <td>0034eef3-8471-430a-b2de-e0fed7ffad63</td>\n",
       "      <td>Bu maqsadlarda Jahon banki mablagʻlaridan 70 m...</td>\n",
       "    </tr>\n",
       "    <tr>\n",
       "      <th>...</th>\n",
       "      <td>...</td>\n",
       "      <td>...</td>\n",
       "    </tr>\n",
       "    <tr>\n",
       "      <th>1818</th>\n",
       "      <td>ffa4c7dc-1a1e-450b-ae28-3cf3b52731f9</td>\n",
       "      <td>Buning natijasida esa dunyo tillari yaxshigina...</td>\n",
       "    </tr>\n",
       "    <tr>\n",
       "      <th>1819</th>\n",
       "      <td>ffbe966c-0d9f-4ddb-a658-c75e58e4057f</td>\n",
       "      <td>Birinchi navbatda oʻquvchilar bilan hozirgi sh...</td>\n",
       "    </tr>\n",
       "    <tr>\n",
       "      <th>1820</th>\n",
       "      <td>ffeac156-b52b-4dc7-8ce4-d34f936bd036</td>\n",
       "      <td>Hozircha AQSH Milliy xavfsizlik agentligi ayna...</td>\n",
       "    </tr>\n",
       "    <tr>\n",
       "      <th>1821</th>\n",
       "      <td>fffce0db-c36e-46fd-b15d-94fd950c0c00</td>\n",
       "      <td>Bu esa xorij davlatlarida bizning sovutgichlar...</td>\n",
       "    </tr>\n",
       "    <tr>\n",
       "      <th>1823</th>\n",
       "      <td>ffff68a2-52f1-4a21-b17d-12b77f1a75b7</td>\n",
       "      <td>Koʻrilgan chora-tadbirlar natijasida oilaviy k...</td>\n",
       "    </tr>\n",
       "  </tbody>\n",
       "</table>\n",
       "<p>1757 rows × 2 columns</p>\n",
       "</div>"
      ],
      "text/plain": [
       "                                        id  \\\n",
       "0     000e24b1-447f-477f-a153-31c7751209ca   \n",
       "1     001ff9ff-133d-4f8f-8e7a-5a40b854e07f   \n",
       "2     0024f137-7526-4134-8f40-698c8d88ea31   \n",
       "3     003013f7-57f9-496a-ac3a-e2ebdaa36fc8   \n",
       "4     0034eef3-8471-430a-b2de-e0fed7ffad63   \n",
       "...                                    ...   \n",
       "1818  ffa4c7dc-1a1e-450b-ae28-3cf3b52731f9   \n",
       "1819  ffbe966c-0d9f-4ddb-a658-c75e58e4057f   \n",
       "1820  ffeac156-b52b-4dc7-8ce4-d34f936bd036   \n",
       "1821  fffce0db-c36e-46fd-b15d-94fd950c0c00   \n",
       "1823  ffff68a2-52f1-4a21-b17d-12b77f1a75b7   \n",
       "\n",
       "                                               sentence  \n",
       "0     “Shohruh sulton Samarqand taxtiga oʻltirgandin...  \n",
       "1     Oʻtkazilgan soʻrov va oʻrganishlar natijasiga ...  \n",
       "2     Ayni damda mazkur komplekslarni qurish ishlari...  \n",
       "3     Bu – dunyoga yoyilib ketayotgan ogʻir balo, ti...  \n",
       "4     Bu maqsadlarda Jahon banki mablagʻlaridan 70 m...  \n",
       "...                                                 ...  \n",
       "1818  Buning natijasida esa dunyo tillari yaxshigina...  \n",
       "1819  Birinchi navbatda oʻquvchilar bilan hozirgi sh...  \n",
       "1820  Hozircha AQSH Milliy xavfsizlik agentligi ayna...  \n",
       "1821  Bu esa xorij davlatlarida bizning sovutgichlar...  \n",
       "1823  Koʻrilgan chora-tadbirlar natijasida oilaviy k...  \n",
       "\n",
       "[1757 rows x 2 columns]"
      ]
     },
     "execution_count": 93,
     "metadata": {},
     "output_type": "execute_result"
    }
   ],
   "source": [
    "df_bot"
   ]
  },
  {
   "cell_type": "code",
   "execution_count": 105,
   "id": "25e0ebcf",
   "metadata": {},
   "outputs": [],
   "source": [
    "clean_data = pd.read_csv(\"clean_data/final.csv\", index_col=0)"
   ]
  },
  {
   "cell_type": "code",
   "execution_count": 109,
   "id": "08792bcc",
   "metadata": {},
   "outputs": [],
   "source": [
    "del clean_data['is_correct']"
   ]
  },
  {
   "cell_type": "code",
   "execution_count": 114,
   "id": "2502d303",
   "metadata": {},
   "outputs": [],
   "source": [
    "df_bot = df_bot.rename(columns={'sentence': 'text', 'id': 'voice_id'})"
   ]
  },
  {
   "cell_type": "code",
   "execution_count": 110,
   "id": "d3c31f22",
   "metadata": {},
   "outputs": [
    {
     "data": {
      "text/html": [
       "<div>\n",
       "<style scoped>\n",
       "    .dataframe tbody tr th:only-of-type {\n",
       "        vertical-align: middle;\n",
       "    }\n",
       "\n",
       "    .dataframe tbody tr th {\n",
       "        vertical-align: top;\n",
       "    }\n",
       "\n",
       "    .dataframe thead th {\n",
       "        text-align: right;\n",
       "    }\n",
       "</style>\n",
       "<table border=\"1\" class=\"dataframe\">\n",
       "  <thead>\n",
       "    <tr style=\"text-align: right;\">\n",
       "      <th></th>\n",
       "      <th>text</th>\n",
       "      <th>voice_id</th>\n",
       "    </tr>\n",
       "  </thead>\n",
       "  <tbody>\n",
       "    <tr>\n",
       "      <th>0</th>\n",
       "      <td>Bashorat qilish juda qiyin narsa, ayniqsa kela...</td>\n",
       "      <td>AwACAgIAAxkBAAIK9l-hp4FI_giM4buhcgNnT0HpeDTCAA...</td>\n",
       "    </tr>\n",
       "    <tr>\n",
       "      <th>1</th>\n",
       "      <td>Hali ham yosh bola ekansan.</td>\n",
       "      <td>AwACAgIAAxkBAAIKtl-hpjazPHo3gWKdgXrX-xmd-N2-AA...</td>\n",
       "    </tr>\n",
       "    <tr>\n",
       "      <th>2</th>\n",
       "      <td>Bolsheviklar ham xuddi shu ishni qilishadi</td>\n",
       "      <td>AwACAgIAAxkBAAIKeF-hpVGwsfewrkz4SM3ablOvwhuTAA...</td>\n",
       "    </tr>\n",
       "    <tr>\n",
       "      <th>3</th>\n",
       "      <td>O’zbek musiqiy sana’ti afsonasi Ruslan Sharipo...</td>\n",
       "      <td>AwACAgIAAxkBAAIR_l-i_frVgSlBG16FFxejZJRnLaNKAA...</td>\n",
       "    </tr>\n",
       "    <tr>\n",
       "      <th>4</th>\n",
       "      <td>AQShda bugun saylov kuni. Har gal saylovlar bo...</td>\n",
       "      <td>AwACAgIAAxkBAAISOl-jAAGcLFVMKHRoJPJVkW0YXW0SZw...</td>\n",
       "    </tr>\n",
       "    <tr>\n",
       "      <th>...</th>\n",
       "      <td>...</td>\n",
       "      <td>...</td>\n",
       "    </tr>\n",
       "    <tr>\n",
       "      <th>10464</th>\n",
       "      <td>U orqali Siz dunyoning ixtiyoriy nuqtasidagi e...</td>\n",
       "      <td>AwACAgIAAxkBAAK13WA0qhBCwfcVoZ9EDiJYYXb-811gAA...</td>\n",
       "    </tr>\n",
       "    <tr>\n",
       "      <th>10465</th>\n",
       "      <td>Agar siz qirg'oqni ko'rishni yo'qotishdan qo'r...</td>\n",
       "      <td>AwACAgIAAxkBAAK1IWA0qKBKZdOfUOQ_jh1MtWp4L6xhAA...</td>\n",
       "    </tr>\n",
       "    <tr>\n",
       "      <th>10466</th>\n",
       "      <td>Bu o'ziga xos yoqilg'i quyish shoxobchasi, bun...</td>\n",
       "      <td>AwACAgIAAxkBAAK3nGA0rSfkxMpIrWBA31tG6yBTQW6uAA...</td>\n",
       "    </tr>\n",
       "    <tr>\n",
       "      <th>10467</th>\n",
       "      <td>faqat ular ham bizdek o‘ylagan vaqtda.</td>\n",
       "      <td>AwACAgIAAxkBAAK2HGA0qmem_maOzLQ_W5pvdrhimHnSAA...</td>\n",
       "    </tr>\n",
       "    <tr>\n",
       "      <th>10468</th>\n",
       "      <td>Olomon qurol-aslaha omborlariga hujum qiladi</td>\n",
       "      <td>AwACAgIAAxkBAAK2XGA0qwABsMalMCasyLe04jw2wF-03Q...</td>\n",
       "    </tr>\n",
       "  </tbody>\n",
       "</table>\n",
       "<p>10469 rows × 2 columns</p>\n",
       "</div>"
      ],
      "text/plain": [
       "                                                    text  \\\n",
       "0      Bashorat qilish juda qiyin narsa, ayniqsa kela...   \n",
       "1                            Hali ham yosh bola ekansan.   \n",
       "2             Bolsheviklar ham xuddi shu ishni qilishadi   \n",
       "3      O’zbek musiqiy sana’ti afsonasi Ruslan Sharipo...   \n",
       "4      AQShda bugun saylov kuni. Har gal saylovlar bo...   \n",
       "...                                                  ...   \n",
       "10464  U orqali Siz dunyoning ixtiyoriy nuqtasidagi e...   \n",
       "10465  Agar siz qirg'oqni ko'rishni yo'qotishdan qo'r...   \n",
       "10466  Bu o'ziga xos yoqilg'i quyish shoxobchasi, bun...   \n",
       "10467             faqat ular ham bizdek o‘ylagan vaqtda.   \n",
       "10468       Olomon qurol-aslaha omborlariga hujum qiladi   \n",
       "\n",
       "                                                voice_id  \n",
       "0      AwACAgIAAxkBAAIK9l-hp4FI_giM4buhcgNnT0HpeDTCAA...  \n",
       "1      AwACAgIAAxkBAAIKtl-hpjazPHo3gWKdgXrX-xmd-N2-AA...  \n",
       "2      AwACAgIAAxkBAAIKeF-hpVGwsfewrkz4SM3ablOvwhuTAA...  \n",
       "3      AwACAgIAAxkBAAIR_l-i_frVgSlBG16FFxejZJRnLaNKAA...  \n",
       "4      AwACAgIAAxkBAAISOl-jAAGcLFVMKHRoJPJVkW0YXW0SZw...  \n",
       "...                                                  ...  \n",
       "10464  AwACAgIAAxkBAAK13WA0qhBCwfcVoZ9EDiJYYXb-811gAA...  \n",
       "10465  AwACAgIAAxkBAAK1IWA0qKBKZdOfUOQ_jh1MtWp4L6xhAA...  \n",
       "10466  AwACAgIAAxkBAAK3nGA0rSfkxMpIrWBA31tG6yBTQW6uAA...  \n",
       "10467  AwACAgIAAxkBAAK2HGA0qmem_maOzLQ_W5pvdrhimHnSAA...  \n",
       "10468  AwACAgIAAxkBAAK2XGA0qwABsMalMCasyLe04jw2wF-03Q...  \n",
       "\n",
       "[10469 rows x 2 columns]"
      ]
     },
     "execution_count": 110,
     "metadata": {},
     "output_type": "execute_result"
    }
   ],
   "source": [
    "clean_data"
   ]
  },
  {
   "cell_type": "code",
   "execution_count": 115,
   "id": "ab5fcc35",
   "metadata": {},
   "outputs": [],
   "source": [
    "concatenated = pd.concat([clean_data, df_bot])"
   ]
  },
  {
   "cell_type": "code",
   "execution_count": 116,
   "id": "7e308457",
   "metadata": {},
   "outputs": [
    {
     "data": {
      "text/html": [
       "<div>\n",
       "<style scoped>\n",
       "    .dataframe tbody tr th:only-of-type {\n",
       "        vertical-align: middle;\n",
       "    }\n",
       "\n",
       "    .dataframe tbody tr th {\n",
       "        vertical-align: top;\n",
       "    }\n",
       "\n",
       "    .dataframe thead th {\n",
       "        text-align: right;\n",
       "    }\n",
       "</style>\n",
       "<table border=\"1\" class=\"dataframe\">\n",
       "  <thead>\n",
       "    <tr style=\"text-align: right;\">\n",
       "      <th></th>\n",
       "      <th>text</th>\n",
       "      <th>voice_id</th>\n",
       "    </tr>\n",
       "  </thead>\n",
       "  <tbody>\n",
       "    <tr>\n",
       "      <th>0</th>\n",
       "      <td>Bashorat qilish juda qiyin narsa, ayniqsa kela...</td>\n",
       "      <td>AwACAgIAAxkBAAIK9l-hp4FI_giM4buhcgNnT0HpeDTCAA...</td>\n",
       "    </tr>\n",
       "    <tr>\n",
       "      <th>1</th>\n",
       "      <td>Hali ham yosh bola ekansan.</td>\n",
       "      <td>AwACAgIAAxkBAAIKtl-hpjazPHo3gWKdgXrX-xmd-N2-AA...</td>\n",
       "    </tr>\n",
       "    <tr>\n",
       "      <th>2</th>\n",
       "      <td>Bolsheviklar ham xuddi shu ishni qilishadi</td>\n",
       "      <td>AwACAgIAAxkBAAIKeF-hpVGwsfewrkz4SM3ablOvwhuTAA...</td>\n",
       "    </tr>\n",
       "    <tr>\n",
       "      <th>3</th>\n",
       "      <td>O’zbek musiqiy sana’ti afsonasi Ruslan Sharipo...</td>\n",
       "      <td>AwACAgIAAxkBAAIR_l-i_frVgSlBG16FFxejZJRnLaNKAA...</td>\n",
       "    </tr>\n",
       "    <tr>\n",
       "      <th>4</th>\n",
       "      <td>AQShda bugun saylov kuni. Har gal saylovlar bo...</td>\n",
       "      <td>AwACAgIAAxkBAAISOl-jAAGcLFVMKHRoJPJVkW0YXW0SZw...</td>\n",
       "    </tr>\n",
       "    <tr>\n",
       "      <th>...</th>\n",
       "      <td>...</td>\n",
       "      <td>...</td>\n",
       "    </tr>\n",
       "    <tr>\n",
       "      <th>1818</th>\n",
       "      <td>Buning natijasida esa dunyo tillari yaxshigina...</td>\n",
       "      <td>ffa4c7dc-1a1e-450b-ae28-3cf3b52731f9</td>\n",
       "    </tr>\n",
       "    <tr>\n",
       "      <th>1819</th>\n",
       "      <td>Birinchi navbatda oʻquvchilar bilan hozirgi sh...</td>\n",
       "      <td>ffbe966c-0d9f-4ddb-a658-c75e58e4057f</td>\n",
       "    </tr>\n",
       "    <tr>\n",
       "      <th>1820</th>\n",
       "      <td>Hozircha AQSH Milliy xavfsizlik agentligi ayna...</td>\n",
       "      <td>ffeac156-b52b-4dc7-8ce4-d34f936bd036</td>\n",
       "    </tr>\n",
       "    <tr>\n",
       "      <th>1821</th>\n",
       "      <td>Bu esa xorij davlatlarida bizning sovutgichlar...</td>\n",
       "      <td>fffce0db-c36e-46fd-b15d-94fd950c0c00</td>\n",
       "    </tr>\n",
       "    <tr>\n",
       "      <th>1823</th>\n",
       "      <td>Koʻrilgan chora-tadbirlar natijasida oilaviy k...</td>\n",
       "      <td>ffff68a2-52f1-4a21-b17d-12b77f1a75b7</td>\n",
       "    </tr>\n",
       "  </tbody>\n",
       "</table>\n",
       "<p>12226 rows × 2 columns</p>\n",
       "</div>"
      ],
      "text/plain": [
       "                                                   text  \\\n",
       "0     Bashorat qilish juda qiyin narsa, ayniqsa kela...   \n",
       "1                           Hali ham yosh bola ekansan.   \n",
       "2            Bolsheviklar ham xuddi shu ishni qilishadi   \n",
       "3     O’zbek musiqiy sana’ti afsonasi Ruslan Sharipo...   \n",
       "4     AQShda bugun saylov kuni. Har gal saylovlar bo...   \n",
       "...                                                 ...   \n",
       "1818  Buning natijasida esa dunyo tillari yaxshigina...   \n",
       "1819  Birinchi navbatda oʻquvchilar bilan hozirgi sh...   \n",
       "1820  Hozircha AQSH Milliy xavfsizlik agentligi ayna...   \n",
       "1821  Bu esa xorij davlatlarida bizning sovutgichlar...   \n",
       "1823  Koʻrilgan chora-tadbirlar natijasida oilaviy k...   \n",
       "\n",
       "                                               voice_id  \n",
       "0     AwACAgIAAxkBAAIK9l-hp4FI_giM4buhcgNnT0HpeDTCAA...  \n",
       "1     AwACAgIAAxkBAAIKtl-hpjazPHo3gWKdgXrX-xmd-N2-AA...  \n",
       "2     AwACAgIAAxkBAAIKeF-hpVGwsfewrkz4SM3ablOvwhuTAA...  \n",
       "3     AwACAgIAAxkBAAIR_l-i_frVgSlBG16FFxejZJRnLaNKAA...  \n",
       "4     AwACAgIAAxkBAAISOl-jAAGcLFVMKHRoJPJVkW0YXW0SZw...  \n",
       "...                                                 ...  \n",
       "1818               ffa4c7dc-1a1e-450b-ae28-3cf3b52731f9  \n",
       "1819               ffbe966c-0d9f-4ddb-a658-c75e58e4057f  \n",
       "1820               ffeac156-b52b-4dc7-8ce4-d34f936bd036  \n",
       "1821               fffce0db-c36e-46fd-b15d-94fd950c0c00  \n",
       "1823               ffff68a2-52f1-4a21-b17d-12b77f1a75b7  \n",
       "\n",
       "[12226 rows x 2 columns]"
      ]
     },
     "execution_count": 116,
     "metadata": {},
     "output_type": "execute_result"
    }
   ],
   "source": [
    "concatenated"
   ]
  },
  {
   "cell_type": "code",
   "execution_count": 124,
   "id": "fa185e66",
   "metadata": {},
   "outputs": [],
   "source": [
    "lastone = pd.read_csv(\"uz/train.tsv\",sep='\\t')\n",
    "lasttwo = pd.read_csv(\"uz/validated.tsv\",sep='\\t')"
   ]
  },
  {
   "cell_type": "code",
   "execution_count": 126,
   "id": "760fe9ca",
   "metadata": {},
   "outputs": [],
   "source": [
    "total = pd.concat([lastone, lasttwo])"
   ]
  },
  {
   "cell_type": "code",
   "execution_count": 141,
   "id": "cc751a2e",
   "metadata": {},
   "outputs": [],
   "source": [
    "new = total[[\"sentence\",\"path\"]]"
   ]
  },
  {
   "cell_type": "code",
   "execution_count": 173,
   "id": "daf8c2b4",
   "metadata": {},
   "outputs": [],
   "source": [
    "concatenated = concatenated.reset_index(drop=True)"
   ]
  },
  {
   "cell_type": "code",
   "execution_count": 143,
   "id": "d7a74e12",
   "metadata": {},
   "outputs": [],
   "source": [
    "new = new.rename(columns={'sentence': 'text', 'path': 'voice_id'})"
   ]
  },
  {
   "cell_type": "code",
   "execution_count": 157,
   "id": "f8d3227e",
   "metadata": {},
   "outputs": [
    {
     "data": {
      "text/plain": [
       "288"
      ]
     },
     "execution_count": 157,
     "metadata": {},
     "output_type": "execute_result"
    }
   ],
   "source": [
    "len(new['voice_id'].to_numpy())"
   ]
  },
  {
   "cell_type": "code",
   "execution_count": 167,
   "id": "a7201c7f",
   "metadata": {},
   "outputs": [
    {
     "data": {
      "text/plain": [
       "161"
      ]
     },
     "execution_count": 167,
     "metadata": {},
     "output_type": "execute_result"
    }
   ],
   "source": [
    "len(set(new['voice_id']))"
   ]
  },
  {
   "cell_type": "code",
   "execution_count": 269,
   "id": "12057cb4",
   "metadata": {},
   "outputs": [],
   "source": [
    "import os\n",
    "for filename in os.listdir(\"clips/\"):\n",
    "    if filename in a:\n",
    "        os.remove(\"clips/\"+filename)"
   ]
  },
  {
   "cell_type": "code",
   "execution_count": 256,
   "id": "b1b854a0",
   "metadata": {},
   "outputs": [],
   "source": [
    "concatenated = concatenated.drop(concatenated[concatenated['path']==\"9dc8230c-d3ad-4e85-acb5-378364bb84b4.mp3\"].index)"
   ]
  },
  {
   "cell_type": "code",
   "execution_count": 211,
   "id": "ba106bd6",
   "metadata": {},
   "outputs": [
    {
     "data": {
      "text/plain": [
       "Int64Index([], dtype='int64')"
      ]
     },
     "execution_count": 211,
     "metadata": {},
     "output_type": "execute_result"
    }
   ],
   "source": [
    "concatenated[concatenated['path']==\"017e56e9-ef33-4e8e-b912-8511e045c305.mp3\"].index"
   ]
  },
  {
   "cell_type": "code",
   "execution_count": 234,
   "id": "c5a28d9a",
   "metadata": {},
   "outputs": [
    {
     "ename": "TypeError",
     "evalue": "'Series' object is not callable",
     "output_type": "error",
     "traceback": [
      "\u001b[1;31m---------------------------------------------------------------------------\u001b[0m",
      "\u001b[1;31mTypeError\u001b[0m                                 Traceback (most recent call last)",
      "\u001b[1;32m~\\AppData\\Local\\Temp/ipykernel_2320/3535358572.py\u001b[0m in \u001b[0;36m<module>\u001b[1;34m\u001b[0m\n\u001b[1;32m----> 1\u001b[1;33m \u001b[0mconcatenated\u001b[0m \u001b[1;33m=\u001b[0m \u001b[0mconcatenated\u001b[0m\u001b[1;33m[\u001b[0m\u001b[1;33m~\u001b[0m\u001b[0mconcatenated\u001b[0m\u001b[1;33m[\u001b[0m\u001b[1;34m'path'\u001b[0m\u001b[1;33m]\u001b[0m\u001b[1;33m.\u001b[0m\u001b[0misin\u001b[0m\u001b[1;33m(\u001b[0m\u001b[0mlist\u001b[0m\u001b[1;33m(\u001b[0m\u001b[1;34m\"21d4fc75-f0a7-4204-9950-c7b4c223bd44.mp3\"\u001b[0m\u001b[1;33m)\u001b[0m\u001b[1;33m)\u001b[0m\u001b[1;33m]\u001b[0m\u001b[1;33m\u001b[0m\u001b[1;33m\u001b[0m\u001b[0m\n\u001b[0m",
      "\u001b[1;31mTypeError\u001b[0m: 'Series' object is not callable"
     ]
    }
   ],
   "source": [
    "concatenated = concatenated[~concatenated['path'].isin()]"
   ]
  },
  {
   "cell_type": "code",
   "execution_count": 236,
   "id": "4c1ac9ca",
   "metadata": {},
   "outputs": [
    {
     "data": {
      "text/plain": [
       "set()"
      ]
     },
     "execution_count": 236,
     "metadata": {},
     "output_type": "execute_result"
    }
   ],
   "source": [
    "(set(concatenated['path']))-(set(total_files))"
   ]
  },
  {
   "cell_type": "code",
   "execution_count": 218,
   "id": "8c2dddb6",
   "metadata": {},
   "outputs": [
    {
     "data": {
      "text/plain": [
       "12225"
      ]
     },
     "execution_count": 218,
     "metadata": {},
     "output_type": "execute_result"
    }
   ],
   "source": [
    "len(set(concatenated.path))"
   ]
  },
  {
   "cell_type": "code",
   "execution_count": 223,
   "id": "eae7948d",
   "metadata": {},
   "outputs": [
    {
     "data": {
      "text/plain": [
       "56"
      ]
     },
     "execution_count": 223,
     "metadata": {},
     "output_type": "execute_result"
    }
   ],
   "source": [
    "sum(concatenated['path'].isin(newlist))"
   ]
  },
  {
   "cell_type": "code",
   "execution_count": 222,
   "id": "efae7be7",
   "metadata": {},
   "outputs": [],
   "source": [
    "newlist = []\n",
    "for i in allbraks:\n",
    "    newlist.append(i+\".mp3\")"
   ]
  },
  {
   "cell_type": "code",
   "execution_count": 254,
   "id": "37c89d1b",
   "metadata": {},
   "outputs": [
    {
     "data": {
      "text/html": [
       "<div>\n",
       "<style scoped>\n",
       "    .dataframe tbody tr th:only-of-type {\n",
       "        vertical-align: middle;\n",
       "    }\n",
       "\n",
       "    .dataframe tbody tr th {\n",
       "        vertical-align: top;\n",
       "    }\n",
       "\n",
       "    .dataframe thead th {\n",
       "        text-align: right;\n",
       "    }\n",
       "</style>\n",
       "<table border=\"1\" class=\"dataframe\">\n",
       "  <thead>\n",
       "    <tr style=\"text-align: right;\">\n",
       "      <th></th>\n",
       "      <th>sentence</th>\n",
       "      <th>path</th>\n",
       "      <th>client_id</th>\n",
       "      <th>up_votes</th>\n",
       "      <th>down_votes</th>\n",
       "      <th>age</th>\n",
       "      <th>gender</th>\n",
       "      <th>accent</th>\n",
       "      <th>locale</th>\n",
       "      <th>segment</th>\n",
       "    </tr>\n",
       "  </thead>\n",
       "  <tbody>\n",
       "    <tr>\n",
       "      <th>11067</th>\n",
       "      <td>Darhaqiqat, sӱnggi yillarda fuqarolarning ӱzin...</td>\n",
       "      <td>599064ab-ca53-4bd8-b04b-7fb7c2024196.mp3</td>\n",
       "      <td>NaN</td>\n",
       "      <td>NaN</td>\n",
       "      <td>NaN</td>\n",
       "      <td>NaN</td>\n",
       "      <td>NaN</td>\n",
       "      <td>NaN</td>\n",
       "      <td>NaN</td>\n",
       "      <td>NaN</td>\n",
       "    </tr>\n",
       "  </tbody>\n",
       "</table>\n",
       "</div>"
      ],
      "text/plain": [
       "                                                sentence  \\\n",
       "11067  Darhaqiqat, sӱnggi yillarda fuqarolarning ӱzin...   \n",
       "\n",
       "                                           path  client_id  up_votes  \\\n",
       "11067  599064ab-ca53-4bd8-b04b-7fb7c2024196.mp3        NaN       NaN   \n",
       "\n",
       "       down_votes  age  gender  accent  locale  segment  \n",
       "11067         NaN  NaN     NaN     NaN     NaN      NaN  "
      ]
     },
     "execution_count": 254,
     "metadata": {},
     "output_type": "execute_result"
    }
   ],
   "source": [
    "concatenated[concatenated['path']==\"599064ab-ca53-4bd8-b04b-7fb7c2024196.mp3\"]"
   ]
  },
  {
   "cell_type": "code",
   "execution_count": 246,
   "id": "d045c089",
   "metadata": {},
   "outputs": [
    {
     "data": {
      "text/html": [
       "<div>\n",
       "<style scoped>\n",
       "    .dataframe tbody tr th:only-of-type {\n",
       "        vertical-align: middle;\n",
       "    }\n",
       "\n",
       "    .dataframe tbody tr th {\n",
       "        vertical-align: top;\n",
       "    }\n",
       "\n",
       "    .dataframe thead th {\n",
       "        text-align: right;\n",
       "    }\n",
       "</style>\n",
       "<table border=\"1\" class=\"dataframe\">\n",
       "  <thead>\n",
       "    <tr style=\"text-align: right;\">\n",
       "      <th></th>\n",
       "      <th>sentence</th>\n",
       "      <th>path</th>\n",
       "      <th>client_id</th>\n",
       "      <th>up_votes</th>\n",
       "      <th>down_votes</th>\n",
       "      <th>age</th>\n",
       "      <th>gender</th>\n",
       "      <th>accent</th>\n",
       "      <th>locale</th>\n",
       "      <th>segment</th>\n",
       "    </tr>\n",
       "  </thead>\n",
       "  <tbody>\n",
       "    <tr>\n",
       "      <th>0</th>\n",
       "      <td>Bashorat qilish juda qiyin narsa, ayniqsa kela...</td>\n",
       "      <td>AwACAgIAAxkBAAIK9l-hp4FI_giM4buhcgNnT0HpeDTCAA...</td>\n",
       "      <td>NaN</td>\n",
       "      <td>NaN</td>\n",
       "      <td>NaN</td>\n",
       "      <td>NaN</td>\n",
       "      <td>NaN</td>\n",
       "      <td>NaN</td>\n",
       "      <td>NaN</td>\n",
       "      <td>NaN</td>\n",
       "    </tr>\n",
       "    <tr>\n",
       "      <th>1</th>\n",
       "      <td>Hali ham yosh bola ekansan.</td>\n",
       "      <td>AwACAgIAAxkBAAIKtl-hpjazPHo3gWKdgXrX-xmd-N2-AA...</td>\n",
       "      <td>NaN</td>\n",
       "      <td>NaN</td>\n",
       "      <td>NaN</td>\n",
       "      <td>NaN</td>\n",
       "      <td>NaN</td>\n",
       "      <td>NaN</td>\n",
       "      <td>NaN</td>\n",
       "      <td>NaN</td>\n",
       "    </tr>\n",
       "    <tr>\n",
       "      <th>2</th>\n",
       "      <td>Bolsheviklar ham xuddi shu ishni qilishadi</td>\n",
       "      <td>AwACAgIAAxkBAAIKeF-hpVGwsfewrkz4SM3ablOvwhuTAA...</td>\n",
       "      <td>NaN</td>\n",
       "      <td>NaN</td>\n",
       "      <td>NaN</td>\n",
       "      <td>NaN</td>\n",
       "      <td>NaN</td>\n",
       "      <td>NaN</td>\n",
       "      <td>NaN</td>\n",
       "      <td>NaN</td>\n",
       "    </tr>\n",
       "    <tr>\n",
       "      <th>3</th>\n",
       "      <td>O’zbek musiqiy sana’ti afsonasi Ruslan Sharipo...</td>\n",
       "      <td>AwACAgIAAxkBAAIR_l-i_frVgSlBG16FFxejZJRnLaNKAA...</td>\n",
       "      <td>NaN</td>\n",
       "      <td>NaN</td>\n",
       "      <td>NaN</td>\n",
       "      <td>NaN</td>\n",
       "      <td>NaN</td>\n",
       "      <td>NaN</td>\n",
       "      <td>NaN</td>\n",
       "      <td>NaN</td>\n",
       "    </tr>\n",
       "    <tr>\n",
       "      <th>4</th>\n",
       "      <td>AQShda bugun saylov kuni. Har gal saylovlar bo...</td>\n",
       "      <td>AwACAgIAAxkBAAISOl-jAAGcLFVMKHRoJPJVkW0YXW0SZw...</td>\n",
       "      <td>NaN</td>\n",
       "      <td>NaN</td>\n",
       "      <td>NaN</td>\n",
       "      <td>NaN</td>\n",
       "      <td>NaN</td>\n",
       "      <td>NaN</td>\n",
       "      <td>NaN</td>\n",
       "      <td>NaN</td>\n",
       "    </tr>\n",
       "    <tr>\n",
       "      <th>...</th>\n",
       "      <td>...</td>\n",
       "      <td>...</td>\n",
       "      <td>...</td>\n",
       "      <td>...</td>\n",
       "      <td>...</td>\n",
       "      <td>...</td>\n",
       "      <td>...</td>\n",
       "      <td>...</td>\n",
       "      <td>...</td>\n",
       "      <td>...</td>\n",
       "    </tr>\n",
       "    <tr>\n",
       "      <th>12221</th>\n",
       "      <td>Buning natijasida esa dunyo tillari yaxshigina...</td>\n",
       "      <td>ffa4c7dc-1a1e-450b-ae28-3cf3b52731f9.mp3</td>\n",
       "      <td>NaN</td>\n",
       "      <td>NaN</td>\n",
       "      <td>NaN</td>\n",
       "      <td>NaN</td>\n",
       "      <td>NaN</td>\n",
       "      <td>NaN</td>\n",
       "      <td>NaN</td>\n",
       "      <td>NaN</td>\n",
       "    </tr>\n",
       "    <tr>\n",
       "      <th>12222</th>\n",
       "      <td>Birinchi navbatda oʻquvchilar bilan hozirgi sh...</td>\n",
       "      <td>ffbe966c-0d9f-4ddb-a658-c75e58e4057f.mp3</td>\n",
       "      <td>NaN</td>\n",
       "      <td>NaN</td>\n",
       "      <td>NaN</td>\n",
       "      <td>NaN</td>\n",
       "      <td>NaN</td>\n",
       "      <td>NaN</td>\n",
       "      <td>NaN</td>\n",
       "      <td>NaN</td>\n",
       "    </tr>\n",
       "    <tr>\n",
       "      <th>12223</th>\n",
       "      <td>Hozircha AQSH Milliy xavfsizlik agentligi ayna...</td>\n",
       "      <td>ffeac156-b52b-4dc7-8ce4-d34f936bd036.mp3</td>\n",
       "      <td>NaN</td>\n",
       "      <td>NaN</td>\n",
       "      <td>NaN</td>\n",
       "      <td>NaN</td>\n",
       "      <td>NaN</td>\n",
       "      <td>NaN</td>\n",
       "      <td>NaN</td>\n",
       "      <td>NaN</td>\n",
       "    </tr>\n",
       "    <tr>\n",
       "      <th>12224</th>\n",
       "      <td>Bu esa xorij davlatlarida bizning sovutgichlar...</td>\n",
       "      <td>fffce0db-c36e-46fd-b15d-94fd950c0c00.mp3</td>\n",
       "      <td>NaN</td>\n",
       "      <td>NaN</td>\n",
       "      <td>NaN</td>\n",
       "      <td>NaN</td>\n",
       "      <td>NaN</td>\n",
       "      <td>NaN</td>\n",
       "      <td>NaN</td>\n",
       "      <td>NaN</td>\n",
       "    </tr>\n",
       "    <tr>\n",
       "      <th>12225</th>\n",
       "      <td>Koʻrilgan chora-tadbirlar natijasida oilaviy k...</td>\n",
       "      <td>ffff68a2-52f1-4a21-b17d-12b77f1a75b7.mp3</td>\n",
       "      <td>NaN</td>\n",
       "      <td>NaN</td>\n",
       "      <td>NaN</td>\n",
       "      <td>NaN</td>\n",
       "      <td>NaN</td>\n",
       "      <td>NaN</td>\n",
       "      <td>NaN</td>\n",
       "      <td>NaN</td>\n",
       "    </tr>\n",
       "  </tbody>\n",
       "</table>\n",
       "<p>12168 rows × 10 columns</p>\n",
       "</div>"
      ],
      "text/plain": [
       "                                                sentence  \\\n",
       "0      Bashorat qilish juda qiyin narsa, ayniqsa kela...   \n",
       "1                            Hali ham yosh bola ekansan.   \n",
       "2             Bolsheviklar ham xuddi shu ishni qilishadi   \n",
       "3      O’zbek musiqiy sana’ti afsonasi Ruslan Sharipo...   \n",
       "4      AQShda bugun saylov kuni. Har gal saylovlar bo...   \n",
       "...                                                  ...   \n",
       "12221  Buning natijasida esa dunyo tillari yaxshigina...   \n",
       "12222  Birinchi navbatda oʻquvchilar bilan hozirgi sh...   \n",
       "12223  Hozircha AQSH Milliy xavfsizlik agentligi ayna...   \n",
       "12224  Bu esa xorij davlatlarida bizning sovutgichlar...   \n",
       "12225  Koʻrilgan chora-tadbirlar natijasida oilaviy k...   \n",
       "\n",
       "                                                    path  client_id  up_votes  \\\n",
       "0      AwACAgIAAxkBAAIK9l-hp4FI_giM4buhcgNnT0HpeDTCAA...        NaN       NaN   \n",
       "1      AwACAgIAAxkBAAIKtl-hpjazPHo3gWKdgXrX-xmd-N2-AA...        NaN       NaN   \n",
       "2      AwACAgIAAxkBAAIKeF-hpVGwsfewrkz4SM3ablOvwhuTAA...        NaN       NaN   \n",
       "3      AwACAgIAAxkBAAIR_l-i_frVgSlBG16FFxejZJRnLaNKAA...        NaN       NaN   \n",
       "4      AwACAgIAAxkBAAISOl-jAAGcLFVMKHRoJPJVkW0YXW0SZw...        NaN       NaN   \n",
       "...                                                  ...        ...       ...   \n",
       "12221           ffa4c7dc-1a1e-450b-ae28-3cf3b52731f9.mp3        NaN       NaN   \n",
       "12222           ffbe966c-0d9f-4ddb-a658-c75e58e4057f.mp3        NaN       NaN   \n",
       "12223           ffeac156-b52b-4dc7-8ce4-d34f936bd036.mp3        NaN       NaN   \n",
       "12224           fffce0db-c36e-46fd-b15d-94fd950c0c00.mp3        NaN       NaN   \n",
       "12225           ffff68a2-52f1-4a21-b17d-12b77f1a75b7.mp3        NaN       NaN   \n",
       "\n",
       "       down_votes  age  gender  accent  locale  segment  \n",
       "0             NaN  NaN     NaN     NaN     NaN      NaN  \n",
       "1             NaN  NaN     NaN     NaN     NaN      NaN  \n",
       "2             NaN  NaN     NaN     NaN     NaN      NaN  \n",
       "3             NaN  NaN     NaN     NaN     NaN      NaN  \n",
       "4             NaN  NaN     NaN     NaN     NaN      NaN  \n",
       "...           ...  ...     ...     ...     ...      ...  \n",
       "12221         NaN  NaN     NaN     NaN     NaN      NaN  \n",
       "12222         NaN  NaN     NaN     NaN     NaN      NaN  \n",
       "12223         NaN  NaN     NaN     NaN     NaN      NaN  \n",
       "12224         NaN  NaN     NaN     NaN     NaN      NaN  \n",
       "12225         NaN  NaN     NaN     NaN     NaN      NaN  \n",
       "\n",
       "[12168 rows x 10 columns]"
      ]
     },
     "execution_count": 246,
     "metadata": {},
     "output_type": "execute_result"
    }
   ],
   "source": [
    "concatenated[\"is_dig\"]"
   ]
  },
  {
   "cell_type": "code",
   "execution_count": 257,
   "id": "87e15f7c",
   "metadata": {},
   "outputs": [],
   "source": [
    "def hasNumbers(inputString):\n",
    "    return any(char.isdigit() for char in inputString)"
   ]
  },
  {
   "cell_type": "code",
   "execution_count": 259,
   "id": "7379c56b",
   "metadata": {},
   "outputs": [],
   "source": [
    "concatenated[\"is_dig\"] = concatenated[\"sentence\"].apply(hasNumbers)"
   ]
  },
  {
   "cell_type": "code",
   "execution_count": 261,
   "id": "85959294",
   "metadata": {},
   "outputs": [
    {
     "data": {
      "text/plain": [
       "372"
      ]
     },
     "execution_count": 261,
     "metadata": {},
     "output_type": "execute_result"
    }
   ],
   "source": [
    "sum(concatenated[\"is_dig\"])"
   ]
  },
  {
   "cell_type": "code",
   "execution_count": 266,
   "id": "a72afc88",
   "metadata": {},
   "outputs": [],
   "source": [
    "a = concatenated[concatenated[\"is_dig\"]]['path'].to_numpy()"
   ]
  },
  {
   "cell_type": "code",
   "execution_count": 268,
   "id": "dbcd3781",
   "metadata": {},
   "outputs": [],
   "source": [
    "concatenated = concatenated[~concatenated['path'].isin(a)]"
   ]
  },
  {
   "cell_type": "code",
   "execution_count": 270,
   "id": "844c1722",
   "metadata": {},
   "outputs": [
    {
     "data": {
      "text/plain": [
       "11793"
      ]
     },
     "execution_count": 270,
     "metadata": {},
     "output_type": "execute_result"
    }
   ],
   "source": [
    "len(concatenated)"
   ]
  },
  {
   "cell_type": "code",
   "execution_count": null,
   "id": "d06cadeb",
   "metadata": {},
   "outputs": [],
   "source": []
  }
 ],
 "metadata": {
  "kernelspec": {
   "display_name": "Python 3 (ipykernel)",
   "language": "python",
   "name": "python3"
  },
  "language_info": {
   "codemirror_mode": {
    "name": "ipython",
    "version": 3
   },
   "file_extension": ".py",
   "mimetype": "text/x-python",
   "name": "python",
   "nbconvert_exporter": "python",
   "pygments_lexer": "ipython3",
   "version": "3.9.7"
  }
 },
 "nbformat": 4,
 "nbformat_minor": 5
}
